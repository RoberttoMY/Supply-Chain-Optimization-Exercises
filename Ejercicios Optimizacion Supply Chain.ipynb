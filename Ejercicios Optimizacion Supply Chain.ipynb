{
 "cells": [
  {
   "cell_type": "markdown",
   "metadata": {},
   "source": [
    "# <font color=green> Ejercicio 1</font>\n",
    "\n",
    "Las tiendas Walkmark están en proceso de expansión en el oeste de Estados Unidos. Walkmark planea construir durante el próximo año nuevas tiendas que presentarán servicios a 10 comunidades geográficamente dispersas. La experiencia pasada indica que una comunidad debe estar a una distancia máxima de 25 millas de una tienda para atraer clientes. Ademas la población de una comunidad desempeña un rol importante en la ubicación de una tienda, en el sentido que las comunidades grandes generan más clientes participantes.\n",
    "\n",
    "<table class=\"egt\">\n",
    "  <tr>\n",
    "    <th></th>\n",
    "    <td></td>\n",
    "    <td></td>\n",
    "    <td>Millas de la comnunidad i a la comunidad j</td> \n",
    "    <td></td> \n",
    "    <td></td> \n",
    "    <td></td> \n",
    "    <td></td> \n",
    "    <td></td> \n",
    "    <td></td> \n",
    "  </tr>\n",
    "<table class=\"egt\">\n",
    "  <tr>\n",
    "    <th>i/j</th> \n",
    "    <th>1</th>\n",
    "    <th>2</th>\n",
    "    <th>3</th>\n",
    "    <th>4</th>\n",
    "    <th>5</th>\n",
    "    <th>6</th>\n",
    "    <th>7</th>\n",
    "    <th>8</th>\n",
    "    <th>9</th>\n",
    "    <th>10</th>\n",
    "    <th>Poblacion</th>\n",
    "  </tr>\n",
    "  <tr>\n",
    "    <th>1</th>\n",
    "    <td>0</td>\n",
    "    <td>20</td>\n",
    "    <td>40</td>\n",
    "    <td>35</td>\n",
    "    <td>17</td>\n",
    "    <td>24</td>\n",
    "    <td>50</td>\n",
    "    <td>58</td>\n",
    "    <td>33</td>\n",
    "    <td>12</td>\n",
    "    <td>10000</td>\n",
    "  </tr>\n",
    "  <tr>\n",
    "    <th>2</th>\n",
    "    <td>20</td>\n",
    "    <td>0</td>\n",
    "    <td>23</td>\n",
    "    <td>68</td>\n",
    "    <td>40</td>\n",
    "    <td>30</td>\n",
    "    <td>20</td>\n",
    "    <td>19</td>\n",
    "    <td>70</td>\n",
    "    <td>40</td>\n",
    "    <td>15000</td>\n",
    "  </tr>\n",
    "  <tr>\n",
    "    <th>3</th>\n",
    "    <td>40</td>\n",
    "    <td>23</td>\n",
    "    <td>0</td>\n",
    "    <td>36</td>\n",
    "    <td>70</td>\n",
    "    <td>22</td>\n",
    "    <td>45</td>\n",
    "    <td>30</td>\n",
    "    <td>21</td>\n",
    "    <td>80</td>\n",
    "    <td>28000</td>\n",
    "  </tr>\n",
    "  <tr>\n",
    "    <th>4</th>\n",
    "    <td>35</td>\n",
    "    <td>68</td>\n",
    "    <td>36</td>\n",
    "    <td>0</td>\n",
    "    <td>70</td>\n",
    "    <td>80</td>\n",
    "    <td>24</td>\n",
    "    <td>20</td>\n",
    "    <td>40</td>\n",
    "    <td>10</td>\n",
    "    <td>30000</td>\n",
    "  </tr>\n",
    "  <tr>\n",
    "    <th>5</th>\n",
    "    <td>17</td>\n",
    "    <td>40</td>\n",
    "    <td>70</td>\n",
    "    <td>70</td>\n",
    "    <td>0</td>\n",
    "    <td>23</td>\n",
    "    <td>70</td>\n",
    "    <td>40</td>\n",
    "    <td>13</td>\n",
    "    <td>40</td>\n",
    "    <td>40000</td>\n",
    "  </tr> \n",
    "  <tr>\n",
    "    <th>6</th>\n",
    "    <td>24</td>\n",
    "    <td>30</td>\n",
    "    <td>22</td>\n",
    "    <td>80</td>\n",
    "    <td>23</td>\n",
    "    <td>0</td>\n",
    "    <td>12</td>\n",
    "    <td>14</td>\n",
    "    <td>50</td>\n",
    "    <td>50</td>\n",
    "    <td>30000</td>\n",
    "  </tr>\n",
    "  <tr>\n",
    "    <th>7</th>\n",
    "    <td>50</td>\n",
    "    <td>20</td>\n",
    "    <td>45</td>\n",
    "    <td>24</td>\n",
    "    <td>70</td>\n",
    "    <td>12</td>\n",
    "    <td>0</td>\n",
    "    <td>26</td>\n",
    "    <td>40</td>\n",
    "    <td>30</td>\n",
    "    <td>20000</td>\n",
    "  </tr>\n",
    "  <tr>\n",
    "    <th>8</th>\n",
    "    <td>58</td>\n",
    "    <td>19</td>\n",
    "    <td>30</td>\n",
    "    <td>20</td>\n",
    "    <td>40</td>\n",
    "    <td>14</td>\n",
    "    <td>26</td>\n",
    "    <td>0</td>\n",
    "    <td>20</td>\n",
    "    <td>50</td>\n",
    "    <td>15000</td>\n",
    "  </tr>\n",
    "  <tr>\n",
    "    <th>9</th>\n",
    "    <td>33</td>\n",
    "    <td>70</td>\n",
    "    <td>21</td>\n",
    "    <td>40</td>\n",
    "    <td>13</td>\n",
    "    <td>50</td>\n",
    "    <td>40</td>\n",
    "    <td>20</td>\n",
    "    <td>0</td>\n",
    "    <td>22</td>\n",
    "    <td>60000</td>\n",
    "  </tr>\n",
    "  <tr>\n",
    "    <th>10</th>\n",
    "    <td>12</td>\n",
    "    <td>40</td>\n",
    "    <td>80</td>\n",
    "    <td>10</td>\n",
    "    <td>40</td>\n",
    "    <td>50</td>\n",
    "    <td>30</td>\n",
    "    <td>50</td>\n",
    "    <td>22</td>\n",
    "    <td>0</td>\n",
    "    <td>12000</td>\n",
    "  </tr>\n",
    "</table>\n",
    "    \n",
    "La idea es construir el menor número de tiendas, teniendo en cuenta la restriccion de la distancia y la concentracion de las poblaciones. Especifique las comunidades donde deben ubicarse las tiendas."
   ]
  },
  {
   "cell_type": "code",
   "execution_count": 27,
   "metadata": {},
   "outputs": [],
   "source": [
    "import numpy as np\n",
    "import pandas as pd\n",
    "import matplotlib.pyplot as plt\n",
    "from docplex.mp.model import Model"
   ]
  },
  {
   "cell_type": "code",
   "execution_count": 28,
   "metadata": {},
   "outputs": [],
   "source": [
    "#Parámetros\n",
    "N=10\n",
    "comunidades=[i for i in range(1,N+1)]\n",
    "ubicaciones=[i for i in comunidades]\n",
    "arcos=[(i,j) for i in comunidades for j in ubicaciones]\n",
    "millas={(1,1):0,(1,2):20,(1,3):40,(1,4):35,(1,5):17,(1,6):24,(1,7):50,(1,8):58,(1,9):33,(1,10):12,\n",
    "        (2,1):20,(2,2):0,(2,3):23,(2,4):68,(2,5):40,(2,6):30,(2,7):20,(2,8):19,(2,9):70,(2,10):40,\n",
    "        (3,1):40,(3,2):23,(3,3):0,(3,4):36,(3,5):70,(3,6):22,(3,7):45,(3,8):30,(3,9):21,(3,10):80,\n",
    "        (4,1):35,(4,2):68,(4,3):36,(4,4):0,(4,5):70,(4,6):80,(4,7):24,(4,8):20,(4,9):40,(4,10):10,\n",
    "        (5,1):17,(5,2):40,(5,3):70,(5,4):70,(5,5):0,(5,6):23,(5,7):70,(5,8):40,(5,9):13,(5,10):40,\n",
    "        (6,1):24,(6,2):30,(6,3):22,(6,4):80,(6,5):23,(6,6):0,(6,7):12,(6,8):14,(6,9):50,(6,10):50,\n",
    "        (7,1):50,(7,2):20,(7,3):45,(7,4):24,(7,5):70,(7,6):12,(7,7):0,(7,8):26,(7,9):40,(7,10):30,\n",
    "        (8,1):58,(8,2):19,(8,3):30,(8,4):20,(8,5):40,(8,6):14,(8,7):26,(8,8):0,(8,9):20,(8,10):50,\n",
    "        (9,1):33,(9,2):70,(9,3):21,(9,4):40,(9,5):13,(9,6):50,(9,7):40,(9,8):20,(9,9):0,(9,10):22,\n",
    "        (10,1):12,(10,2):40,(10,3):80,(10,4):10,(10,5):40,(10,6):50,(10,7):30,(10,8):50,(10,9):22,(10,10):0}\n",
    "max_cov=25\n",
    "poblaciones={(1):10000,(2):15000,(3):28000,(4):30000,(5):40000,(6):30000,(7):20000,(8):15000,(9):60000,(10):12000}\n",
    "poblacionTotal=sum(poblaciones[i] for i in comunidades)\n",
    "w={(i):poblaciones[i]/poblacionTotal for i in comunidades}\n",
    "a={(i,j):1 if millas[(i,j)]<=max_cov and i!=j else 0 for (i,j) in millas}\n",
    "M=len(comunidades)"
   ]
  },
  {
   "cell_type": "markdown",
   "metadata": {},
   "source": [
    "### <font color=green> Modelo de Programación Lineal </font>\n",
    "\\begin{equation}\n",
    "Min\\;Z=z\n",
    "\\end{equation}\n",
    "\\begin{equation}(1)\n",
    "\\sum_{i} w_{i}*millas_{ij}*x_{ij} <= z \\;\\;\\;\\forall {j}\n",
    "\\end{equation}\n",
    "\\begin{equation}(2)\n",
    "\\sum_{j} x_{ij} = 1 \\;\\;\\;\\forall {i}\n",
    "\\end{equation}\n",
    "\\begin{equation}(3)\n",
    "\\sum_{i} x_{ij} - M*y_{j} <= 0 \\;\\;\\;\\forall {j}\n",
    "\\end{equation}\n",
    "\\begin{equation}(4)\n",
    "\\sum_{i} a_{ij} * x_{ij} >= y_{j} \\;\\;\\;\\forall {j}\n",
    "\\end{equation}\n",
    "\\begin{equation}(5)\\\n",
    "x_i \\in [0,1]\\forall i \n",
    "\\end{equation}\n",
    "\n",
    "\\begin{equation}(6)\\\n",
    "y_i \\in [0,1]\\forall i \n",
    "\\end{equation}\n",
    "\n",
    "\\begin{equation}(7)\\\n",
    "z \\in  R\n",
    "\\end{equation}\n",
    "\n",
    "Donde: \n",
    "    \n",
    "### Conjuntos\n",
    "- $Comunidades\\;(C)$= Conjunto de comunidades|$\\;C=\\{1,2,..,10\\}$\n",
    "- $Ubicaciones\\;(U)$= Conjunto de posibles ubicaciones para tiendas|$\\;U=C$\n",
    "- $Arcos\\;(A)$= Conjunto de arcos entre cada sector$\\;A= (i,j) \\in C^2$\n",
    "\n",
    "### **Parámetros del problema**\n",
    "- $Millas_{ij}$= Distancia en millas desde la comunidad $i$ a la comunidad $j$\n",
    "- $a_{ij}$= 1 si la comunidad $i$ se encuentra a menos de 25 milla de la comunidad $j$; 0 En cualquier otro caso\n",
    "- $p_{i}$= Poblacion de la comunidad $i$\n",
    "- $P$= Población total\n",
    "- $w_{i}$= Peso o proporción de la comunidad $i$ con respecto al total de la población\n",
    "\n",
    "### Variables de Decisión\n",
    "- $x_{ij}$= {1 si se abastece a la comunidad $i$ desde la ubicación $j$; 0 de otra manera}$\\;x_{ij}\\in(0,1)$\n",
    "- $y_{j}$= {1 si se decide ubicar una tienda en la ubicación $j$} $\\;y_{j}\\in(0,1)$\n",
    "- $z$= Variables utilizada para minizar el costo de abastecimiento de cada tienda con respecto a las comunidades asignadas.\n",
    "\n",
    "\n"
   ]
  },
  {
   "cell_type": "code",
   "execution_count": 29,
   "metadata": {},
   "outputs": [],
   "source": [
    "m=Model(\"EjercicioComunidades\")"
   ]
  },
  {
   "cell_type": "code",
   "execution_count": 30,
   "metadata": {},
   "outputs": [],
   "source": [
    "x=m.binary_var_dict(arcos,name=\"X\")\n",
    "y=m.binary_var_dict(ubicaciones,name=\"Y\")\n",
    "z=m.continuous_var(name=\"Z\")"
   ]
  },
  {
   "cell_type": "code",
   "execution_count": 31,
   "metadata": {},
   "outputs": [],
   "source": [
    "m.minimize(z)"
   ]
  },
  {
   "cell_type": "code",
   "execution_count": 32,
   "metadata": {},
   "outputs": [
    {
     "data": {
      "text/plain": [
       "[docplex.mp.LinearConstraint[](X_2_1+X_5_1+X_6_1+X_10_1,GE,Y_1),\n",
       " docplex.mp.LinearConstraint[](X_1_2+X_3_2+X_7_2+X_8_2,GE,Y_2),\n",
       " docplex.mp.LinearConstraint[](X_2_3+X_6_3+X_9_3,GE,Y_3),\n",
       " docplex.mp.LinearConstraint[](X_7_4+X_8_4+X_10_4,GE,Y_4),\n",
       " docplex.mp.LinearConstraint[](X_1_5+X_6_5+X_9_5,GE,Y_5),\n",
       " docplex.mp.LinearConstraint[](X_1_6+X_3_6+X_5_6+X_7_6+X_8_6,GE,Y_6),\n",
       " docplex.mp.LinearConstraint[](X_2_7+X_4_7+X_6_7,GE,Y_7),\n",
       " docplex.mp.LinearConstraint[](X_2_8+X_4_8+X_6_8+X_9_8,GE,Y_8),\n",
       " docplex.mp.LinearConstraint[](X_3_9+X_5_9+X_8_9+X_10_9,GE,Y_9),\n",
       " docplex.mp.LinearConstraint[](X_1_10+X_4_10+X_9_10,GE,Y_10)]"
      ]
     },
     "execution_count": 32,
     "metadata": {},
     "output_type": "execute_result"
    }
   ],
   "source": [
    "m.add_constraints(m.sum(w[i]*millas[i,j]*x[i,j] for i in comunidades)<=z for j in ubicaciones)\n",
    "m.add_constraints(m.sum(x[i,j] for j in ubicaciones)==1 for i in comunidades)\n",
    "m.add_constraints(m.sum(x[i,j] for i in comunidades)-M*y[j]<=0 for j in ubicaciones)\n",
    "m.add_constraints(m.sum(a[i,j]*x[i,j] for i in comunidades)>=y[j] for j in ubicaciones)"
   ]
  },
  {
   "cell_type": "code",
   "execution_count": 33,
   "metadata": {},
   "outputs": [
    {
     "name": "stdout",
     "output_type": "stream",
     "text": [
      "CPXPARAM_Read_DataCheck                          1\n",
      "Found incumbent of value 30.246154 after 0.00 sec. (0.01 ticks)\n",
      "Tried aggregator 1 time.\n",
      "Reduced MIP has 40 rows, 111 columns, and 356 nonzeros.\n",
      "Reduced MIP has 110 binaries, 0 generals, 0 SOSs, and 0 indicators.\n",
      "Presolve time = 0.00 sec. (0.20 ticks)\n",
      "Probing time = 0.00 sec. (0.15 ticks)\n",
      "Tried aggregator 1 time.\n",
      "Reduced MIP has 40 rows, 111 columns, and 356 nonzeros.\n",
      "Reduced MIP has 110 binaries, 0 generals, 0 SOSs, and 0 indicators.\n",
      "Presolve time = 0.00 sec. (0.25 ticks)\n",
      "Probing time = 0.00 sec. (0.15 ticks)\n",
      "Clique table members: 110.\n",
      "MIP emphasis: balance optimality and feasibility.\n",
      "MIP search method: dynamic search.\n",
      "Parallel mode: deterministic, using up to 4 threads.\n",
      "Root relaxation solution time = 0.00 sec. (0.36 ticks)\n",
      "\n",
      "        Nodes                                         Cuts/\n",
      "   Node  Left     Objective  IInf  Best Integer    Best Bound    ItCnt     Gap\n",
      "\n",
      "*     0+    0                           30.2462        0.0000           100.00%\n",
      "      0     0        0.1274    35       30.2462        0.1274       47   99.58%\n",
      "*     0+    0                            2.3692        0.1274            94.62%\n",
      "      0     0        1.1021    24        2.3692      Cuts: 42      109   53.48%\n",
      "*     0+    0                            2.2615        1.1021            51.27%\n",
      "      0     0        1.3269     6        2.2615    MIRcuts: 1      119   41.33%\n",
      "*     0+    0                            1.3846        1.3269             4.17%\n",
      "*     0+    0                            1.3269        1.3269             0.00%\n",
      "      0     0        cutoff              1.3269        1.3269      119    0.00%\n",
      "Elapsed time = 0.16 sec. (3.93 ticks, tree = 0.01 MB, solutions = 5)\n",
      "\n",
      "Clique cuts applied:  6\n",
      "Cover cuts applied:  2\n",
      "Mixed integer rounding cuts applied:  2\n",
      "Zero-half cuts applied:  1\n",
      "Gomory fractional cuts applied:  2\n",
      "\n",
      "Root node processing (before b&c):\n",
      "  Real time             =    0.19 sec. (3.94 ticks)\n",
      "Parallel b&c, 4 threads:\n",
      "  Real time             =    0.00 sec. (0.00 ticks)\n",
      "  Sync time (average)   =    0.00 sec.\n",
      "  Wait time (average)   =    0.00 sec.\n",
      "                          ------------\n",
      "Total (root+branch&cut) =    0.19 sec. (3.94 ticks)\n"
     ]
    }
   ],
   "source": [
    "sol=m.solve(log_output=True)"
   ]
  },
  {
   "cell_type": "code",
   "execution_count": 34,
   "metadata": {},
   "outputs": [
    {
     "data": {
      "text/plain": [
       "<JobSolveStatus.OPTIMAL_SOLUTION: 2>"
      ]
     },
     "execution_count": 34,
     "metadata": {},
     "output_type": "execute_result"
    }
   ],
   "source": [
    "m.get_solve_status()"
   ]
  },
  {
   "cell_type": "code",
   "execution_count": 35,
   "metadata": {
    "scrolled": true
   },
   "outputs": [
    {
     "name": "stdout",
     "output_type": "stream",
     "text": [
      "solution for: EjercicioComunidades\n",
      "Z: 1.327\n",
      "X_1_5 = 1\n",
      "X_2_3 = 1\n",
      "X_3_3 = 1\n",
      "X_4_4 = 1\n",
      "X_5_5 = 1\n",
      "X_6_6 = 1\n",
      "X_7_6 = 1\n",
      "X_8_9 = 1\n",
      "X_9_9 = 1\n",
      "X_10_4 = 1\n",
      "Y_3 = 1\n",
      "Y_4 = 1\n",
      "Y_5 = 1\n",
      "Y_6 = 1\n",
      "Y_9 = 1\n",
      "Z = 1.327\n"
     ]
    }
   ],
   "source": [
    "sol.display()"
   ]
  },
  {
   "cell_type": "code",
   "execution_count": 24,
   "metadata": {},
   "outputs": [
    {
     "name": "stdout",
     "output_type": "stream",
     "text": [
      "[(5, 5), (7, 6), (9, 9), (8, 9), (1, 5), (10, 4), (2, 3), (6, 6), (3, 3), (4, 4)]\n"
     ]
    }
   ],
   "source": [
    "arcos_acivos=[(i,j) for i,j in arcos if x[i,j].solution_value>0.99]\n",
    "print(arcos_acivos)"
   ]
  },
  {
   "cell_type": "code",
   "execution_count": 25,
   "metadata": {},
   "outputs": [
    {
     "name": "stdout",
     "output_type": "stream",
     "text": [
      "[3, 4, 5, 6, 9]\n"
     ]
    }
   ],
   "source": [
    "ubicaciones_activas=[j for j in ubicaciones if y[j].solution_value>0.99]\n",
    "print(ubicaciones_activas)"
   ]
  },
  {
   "cell_type": "markdown",
   "metadata": {},
   "source": [
    "Respuesta: Como resultado se obtiene la ubicación de 5 tiendas en las comunidades Nº 3 ,4, 5 y 9\n"
   ]
  },
  {
   "cell_type": "markdown",
   "metadata": {},
   "source": [
    "### <font color=green> Ejercicio 2 </font>\n",
    "La compañía “Toys R-4-U” ha desarrollo dos nuevos juguetes para su posible inclusion\n",
    "en la línea de productos la próxima temporada de Navidad. La preparación de\n",
    "instalaciones para iniciar la fabricación costaría 50000 en el caso del jugute 1 y 80000\n",
    "en el jugete 2. Un vez cubiertos estos costos, se obtendría una ganancia unitaria de 10\n",
    "por el juguete 1 y 15 por el juguete 2.\n",
    "La compañía tiene dos plantas que pueden producir estos juguetes. Sin embargo, para\n",
    "evitar la duplicidad de cosos de preparación sólo se usará una de ellas, y la elección\n",
    "depende de la maximización de las ganancias. Por razones adminitrativas, se usará la\n",
    "misma planta para amabos jugutes nuevos si se producen los dos.\n",
    "El juguete 1 se puede producir a una tasa de 50 unidades por ahora en la planta 1 y 40 por\n",
    "hora en la 2. El juguete 2 se puede producir a una tasa de 40 unidades por hora en la\n",
    "planta 1 y 25 por hora en la 2. Las plantas 1 y 2 tiene 500 y 700 horas de producición\n",
    "disponibles, respectivamente, antes de Navidad , que se pueden usar para producir estos\n",
    "juguetes.\n",
    "No se sabe si estos juguetes continuarán fabricándose después de Navidad. Por lo tanto el\n",
    "problema es determinar cuántas unidades 8 si se fabrican) de cada juguete nuevo deben\n",
    "producirse antes de Navidad a fin de maximizar la ganancia total."
   ]
  },
  {
   "cell_type": "markdown",
   "metadata": {},
   "source": [
    "### <font color=green> Modelo de Programación Lineal </font>\n",
    "\\begin{equation}\n",
    "Max\\;Z=(X_{11}+X_{12})*G_1+(X_{21}+X_{22})*G_2-(Y_{11}+Y_{12})*CF_1-(Y_{21}+Y_{22})*CF_2\n",
    "\\end{equation}\n",
    "\n",
    "\\begin{equation}(1)\n",
    "\\sum_{i} X_{ij} * P_{ij}\\leq HH_j\\;\\;\\;\\;\\;\\forall j\n",
    "\\end{equation}\n",
    "\\begin{equation}(2)\n",
    " X_{ij}\\leq M*Y_{ij}\\;\\;\\;\\;\\;\\forall i,j\n",
    "\\end{equation}\n",
    "\\begin{equation}(3)\n",
    "\\sum_{i} Y_{ij}\\leq 1\\;\\;\\;\\;\\;\\forall i\n",
    "\\end{equation}\n",
    "\\begin{equation}(4)\n",
    "\\sum_{j} Z_{j} = 1 \n",
    "\\end{equation}\n",
    "\\begin{equation}(5)\n",
    "\\sum_{i} Y_{ij}\\leq M*Z_j\\;\\;\\;\\;\\;\\forall j\n",
    "\\end{equation}\n",
    "\\begin{equation}(6)\\\n",
    "x_{ij}\\geq0 \\;\\;\\;\\;\\;(enteros)\\;\\;\\;\\;\\;\\;\\forall i \n",
    "\\end{equation}\n",
    "\n",
    "\\begin{equation}(7)\\\n",
    "y_{ij} \\in [0,1]\\;\\;\\;\\;\\;\\;\\forall i,j\n",
    "\\end{equation}\n",
    "\n",
    "\\begin{equation}(8)\\\n",
    "Z_j \\in [0,1]\\;\\;\\;\\;\\;\\;\\forall j \n",
    "\\end{equation}\n",
    "### Subíndices\n",
    "- $Juguete\\;(I)$= Tipo de juguete |$\\;I=\\{1,2\\}$\n",
    "- $Planta \\;(J)$= Plantas |$\\;J=\\{1,2\\}$\n",
    "\n",
    "\n",
    "### **Parámetros del problema**\n",
    "- $G_{i}$= Ganancia generada por unidad producida del juguete $i$ $\\;$\n",
    "- $CF_{j}$= Costo Fijo de incio de fabricación de juguete $i$ $\\;$\n",
    "- $P_{i,j}$= Horas que demora fabricar una unidad de juguete $i$ en la planta $j$ $\\;$\n",
    "- $HH_{j}$= Horas de produccion disponibles para la planta $j$ $\\;$\n",
    "\n",
    "### Variables de Decisión\n",
    "- $X_{i,j}$= Cantidad a producir de juguete $i$ en la fabrica $j$ $\\;$\n",
    "- $Y_{i,j}$= {1 si se decide fabricar el juguete $i$ en la planta $j$ ; 0 de otro modo}$\\;Y_{i,j}\\in(0,1)$\n",
    "- $Z_{j}$= {1 si se decide fabricar en la planta $j$ ; 0 de otro modo}$\\;Z_{j}\\in(0,1)$"
   ]
  },
  {
   "cell_type": "code",
   "execution_count": 12,
   "metadata": {},
   "outputs": [],
   "source": [
    "mdl = Model('modelo')"
   ]
  },
  {
   "cell_type": "code",
   "execution_count": 13,
   "metadata": {},
   "outputs": [],
   "source": [
    "juguetes=[1,2]\n",
    "plantas=[1,2]\n",
    "CF={1:50000,2:80000}\n",
    "G={1:10,2:15}\n",
    "P={(1,1):0.02,(1,2):0.025,(2,1):0.025,(2,2):0.04}\n",
    "HH={1:500,2:700}\n",
    "M=999999\n",
    "matriz={(i,j) for i in juguetes for j in plantas}"
   ]
  },
  {
   "cell_type": "code",
   "execution_count": 14,
   "metadata": {},
   "outputs": [],
   "source": [
    "X=mdl.integer_var_dict(matriz,name=\"X\")\n",
    "Y=mdl.binary_var_dict(matriz,name=\"Y\")\n",
    "Z=mdl.binary_var_dict(plantas,name=\"Z\")"
   ]
  },
  {
   "cell_type": "code",
   "execution_count": 15,
   "metadata": {},
   "outputs": [
    {
     "data": {
      "text/plain": [
       "docplex.mp.LinearConstraint[](Z_1+Z_2,EQ,1)"
      ]
     },
     "execution_count": 15,
     "metadata": {},
     "output_type": "execute_result"
    }
   ],
   "source": [
    "mdl.add_constraints(mdl.sum(X[(i,j)]*P[(i,j)] for i in juguetes)<=HH[j] for j in plantas)\n",
    "mdl.add_constraints(X[(i,j)]-M*Y[(i,j)]<= 0 for i in juguetes for j in plantas)\n",
    "mdl.add_constraints(mdl.sum(Y[(i,j)] for j in plantas)<=1 for i in juguetes)\n",
    "mdl.add_constraints(mdl.sum(Y[(i,j)] for i in juguetes)<=M*Z[j] for j in plantas)\n",
    "mdl.add_constraint(mdl.sum(Z[j] for j in plantas)==1)"
   ]
  },
  {
   "cell_type": "code",
   "execution_count": 16,
   "metadata": {},
   "outputs": [],
   "source": [
    "obj=(X[(1,1)]+X[(1,2)])*G[1]+(X[(2,1)]+X[(2,2)])*G[2]-(Y[(1,1)]+Y[(1,2)])*CF[1]-(Y[(2,1)]+Y[(2,2)])*CF[2]\n",
    "mdl.maximize(obj)"
   ]
  },
  {
   "cell_type": "code",
   "execution_count": 17,
   "metadata": {},
   "outputs": [
    {
     "name": "stdout",
     "output_type": "stream",
     "text": [
      "\\ This file has been generated by DOcplex\n",
      "\\ ENCODING=ISO-8859-1\n",
      "\\Problem name: modelo\n",
      "\n",
      "Maximize\n",
      " obj: 10 X_1_2 + 10 X_1_1 + 15 X_2_1 + 15 X_2_2 - 50000 Y_1_2 - 50000 Y_1_1\n",
      "      - 80000 Y_2_1 - 80000 Y_2_2\n",
      "Subject To\n",
      " c1: 0.020000000000 X_1_1 + 0.025000000000 X_2_1 <= 500\n",
      " c2: 0.025000000000 X_1_2 + 0.040000000000 X_2_2 <= 700\n",
      " c3: X_1_1 - 999999 Y_1_1 <= 0\n",
      " c4: X_1_2 - 999999 Y_1_2 <= 0\n",
      " c5: X_2_1 - 999999 Y_2_1 <= 0\n",
      " c6: X_2_2 - 999999 Y_2_2 <= 0\n",
      " c7: Y_1_2 + Y_1_1 <= 1\n",
      " c8: Y_2_1 + Y_2_2 <= 1\n",
      " c9: Y_1_1 + Y_2_1 - 999999 Z_1 <= 0\n",
      " c10: Y_1_2 + Y_2_2 - 999999 Z_2 <= 0\n",
      " c11: Z_1 + Z_2 = 1\n",
      "\n",
      "Bounds\n",
      " 0 <= Y_1_2 <= 1\n",
      " 0 <= Y_1_1 <= 1\n",
      " 0 <= Y_2_1 <= 1\n",
      " 0 <= Y_2_2 <= 1\n",
      " 0 <= Z_1 <= 1\n",
      " 0 <= Z_2 <= 1\n",
      "\n",
      "Binaries\n",
      " Y_1_2 Y_1_1 Y_2_1 Y_2_2 Z_1 Z_2\n",
      "\n",
      "Generals\n",
      " X_1_2 X_1_1 X_2_1 X_2_2\n",
      "End\n",
      "\n"
     ]
    }
   ],
   "source": [
    "print(mdl.export_to_string())"
   ]
  },
  {
   "cell_type": "code",
   "execution_count": 18,
   "metadata": {},
   "outputs": [
    {
     "name": "stdout",
     "output_type": "stream",
     "text": [
      "CPXPARAM_Read_DataCheck                          1\n",
      "Found incumbent of value 0.000000 after 0.00 sec. (0.00 ticks)\n",
      "Tried aggregator 2 times.\n",
      "MIP Presolve modified 6 coefficients.\n",
      "Aggregator did 1 substitutions.\n",
      "Reduced MIP has 10 rows, 9 columns, and 22 nonzeros.\n",
      "Reduced MIP has 5 binaries, 4 generals, 0 SOSs, and 0 indicators.\n",
      "Presolve time = 0.02 sec. (0.02 ticks)\n",
      "Probing time = 0.00 sec. (0.00 ticks)\n",
      "Tried aggregator 1 time.\n",
      "Reduced MIP has 10 rows, 9 columns, and 22 nonzeros.\n",
      "Reduced MIP has 5 binaries, 4 generals, 0 SOSs, and 0 indicators.\n",
      "Presolve time = 0.02 sec. (0.02 ticks)\n",
      "Probing time = 0.00 sec. (0.00 ticks)\n",
      "Clique table members: 8.\n",
      "MIP emphasis: balance optimality and feasibility.\n",
      "MIP search method: dynamic search.\n",
      "Parallel mode: deterministic, using up to 4 threads.\n",
      "Root relaxation solution time = 0.00 sec. (0.01 ticks)\n",
      "\n",
      "        Nodes                                         Cuts/\n",
      "   Node  Left     Objective  IInf  Best Integer    Best Bound    ItCnt     Gap\n",
      "\n",
      "*     0+    0                            0.0000  1092500.0000              --- \n",
      "*     0+    0                       182500.0000  1092500.0000           498.63%\n",
      "      0     0   450000.0000     1   182500.0000   450000.0000        2  146.58%\n",
      "*     0+    0                       230000.0000   450000.0000            95.65%\n",
      "      0     0        cutoff         230000.0000                      4     --- \n",
      "Elapsed time = 0.16 sec. (0.13 ticks, tree = 0.01 MB, solutions = 3)\n",
      "\n",
      "Root node processing (before b&c):\n",
      "  Real time             =    0.16 sec. (0.13 ticks)\n",
      "Parallel b&c, 4 threads:\n",
      "  Real time             =    0.00 sec. (0.00 ticks)\n",
      "  Sync time (average)   =    0.00 sec.\n",
      "  Wait time (average)   =    0.00 sec.\n",
      "                          ------------\n",
      "Total (root+branch&cut) =    0.16 sec. (0.13 ticks)\n"
     ]
    }
   ],
   "source": [
    "solucion = mdl.solve(log_output=True)"
   ]
  },
  {
   "cell_type": "code",
   "execution_count": 19,
   "metadata": {},
   "outputs": [
    {
     "name": "stdout",
     "output_type": "stream",
     "text": [
      "solution for: modelo\n",
      "objective: 230000\n",
      "X_1_2 = 28000\n",
      "Y_1_2 = 1\n",
      "Z_2 = 1\n"
     ]
    }
   ],
   "source": [
    "solucion.display()"
   ]
  },
  {
   "cell_type": "markdown",
   "metadata": {},
   "source": [
    "La solución óptima es fabricar 28000 unidades solo del juguete 1 en la planta 2"
   ]
  },
  {
   "cell_type": "markdown",
   "metadata": {},
   "source": [
    "### <font color=green> Ejercicio 3 </font>\n",
    "\n",
    "La compañía aérea Fly-Right construye jets pequeños que vende a corporaciones para uso\n",
    "ejecutivo. Para cumplir con sus necesidades, en ocaciones los clientes ordenan aviones con\n",
    "diseño especial. Cuando es así, se incurre en un costo de preparacion para inicial la\n",
    "producción de las aeronaves.\n",
    "Fly.-Right acaba de recibir pedidos de tres clientes con fechas de entrega cercanas. Debido\n",
    "a que las instalaciones de producción están comprometidas para cumplir contratos\n",
    "anteriores, no podrán aceptar los 3 pedidos. En consecuencia, debe decidirse el número\n",
    "de aviones que producirán ( si lo hacen) para cada uno de los tres clientes.\n",
    "Los datos relevantes se presentan en la siguiente tabla. El primer reglón contiene los costos\n",
    "fijos para iniciar la producción de aviones de cada cliente. Con la producción en marcha,\n",
    "el ingreso neto marginal (precios de compra menos costos marginal de producción) de cada\n",
    "avisión se presenta en el segundo reglón. El tercero contiene los porcentajes de capacidad\n",
    "de producción disponible para cada avión. El último reglón indica el nñumero máximo de\n",
    "aviones pedidos por cada cliente ( pero aceptarían menos).\n",
    "\n",
    "<table class=\"egt\">\n",
    "  <tr>\n",
    "    <th></th>\n",
    "    <td></td>\n",
    "    <td>**Cliente**</td>\n",
    "    <td></td>\n",
    "  </tr>\n",
    "  <tr>\n",
    "    <th scope=\"row\"></th>\n",
    "    <th>1</th>\n",
    "    <th>2</th>\n",
    "    <th>3</th>\n",
    "  </tr>\n",
    "  <tr>\n",
    "    <th>Costo de arranque</th>\n",
    "    <td>3 millones</td>\n",
    "    <td>2 millones</td>\n",
    "    <td>0</td>\n",
    "  </tr>\n",
    "  <tr>\n",
    "    <th>Ingreso neto marginal</th>\n",
    "    <td>2 millones</td>\n",
    "    <td>3 millones</td>\n",
    "    <td>0.8 millones</td>\n",
    "  </tr>\n",
    "  <tr>\n",
    "    <th>Capacidad usada/avión</th>\n",
    "    <td>20%</td>\n",
    "    <td>40%</td>\n",
    "    <td>20%</td>\n",
    "  </tr>\n",
    "  <tr>\n",
    "    <th>Pedido máximo</th>\n",
    "    <td>3 aviones</td>\n",
    "    <td>2 aviones</td>\n",
    "    <td>5 aviones</td>\n",
    "  </tr>\n",
    "</table>"
   ]
  },
  {
   "cell_type": "code",
   "execution_count": 20,
   "metadata": {},
   "outputs": [],
   "source": [
    "mdl = Model('modelo')"
   ]
  },
  {
   "cell_type": "code",
   "execution_count": 21,
   "metadata": {},
   "outputs": [],
   "source": [
    "#subindice\n",
    "Cliente=[1,2,3]\n",
    "#parametros\n",
    "CA={1:3,2:2,3:0}\n",
    "I={1:2,2:3,3:0.8}\n",
    "CU={1:0.2,2:0.4,3:0.2}\n",
    "PM={1:3,2:2,3:5}"
   ]
  },
  {
   "cell_type": "markdown",
   "metadata": {},
   "source": [
    "### <font color=green> Modelo de Programación Lineal </font>\n",
    "\\begin{equation}\n",
    "Max\\;Z=\\sum_{i} X_i*I_i-\\sum_{i} Y_i*CA_i\\forall i \n",
    "\\end{equation}\n",
    "\\begin{equation}(1)\n",
    "\\sum_{i} X_i * CU_i\\leq 1\n",
    "\\end{equation}\n",
    "\\begin{equation}(2)\n",
    "\\sum_{i} Y_i\\leq 2\n",
    "\\end{equation}\n",
    "\n",
    "\\begin{equation}(3)\\\n",
    " X_i\\leq PM_i*Y_i\\;\\;\\;\\;\\forall i \n",
    "\\end{equation}\n",
    "\n",
    "\\begin{equation}(4)\\\n",
    "x_i\\geq0 (enteros)\\;\\;\\;\\;\\forall i \n",
    "\\end{equation}\n",
    "\n",
    "\\begin{equation}(5)\\\n",
    "y_i \\in [0,1]\\;\\;\\;\\;\\forall i \n",
    "\\end{equation}\n",
    "\n",
    "\n",
    "### Conjuntos\n",
    "\n",
    "- $Clientes\\;(I)$= Conjunto de clientes|$\\;I=\\{1,2,3\\}$\n",
    "\n",
    "\n",
    "\n",
    "### Parámetros del problema\n",
    "- $CA_{i}$= Costo de arranque para el cliente $i$\n",
    "\n",
    "- $I_{i}$= Ingreso neto marginal para el cliente $i$\n",
    "\n",
    "- $CU_{i}$= Capacidad usada/avión para el cliente $i$\n",
    "\n",
    "- $PM_{i}$= Pedido máximo que puede hacer el cliente $i$\n",
    "\n",
    "### Variables de decisión\n",
    "\n",
    "- $x_{i}$= cantidad de aviones a producir para cada cliente i\n",
    "\n",
    "- $y_{i}$= {1: si se decide producir para el cliente $i$, 0: de otro modo}$\\;y_{i}\\in(0,1)$"
   ]
  },
  {
   "cell_type": "code",
   "execution_count": 22,
   "metadata": {},
   "outputs": [],
   "source": [
    "X=mdl.integer_var_dict(Cliente,name=\"X\")\n",
    "Y=mdl.binary_var_dict(Cliente,name=\"Y\")"
   ]
  },
  {
   "cell_type": "code",
   "execution_count": 23,
   "metadata": {},
   "outputs": [
    {
     "data": {
      "text/plain": [
       "docplex.mp.LinearConstraint[](Y_1+Y_2+Y_3,LE,2)"
      ]
     },
     "execution_count": 23,
     "metadata": {},
     "output_type": "execute_result"
    }
   ],
   "source": [
    "mdl.add_constraint(mdl.sum(X[i]*CU[i] for i in Cliente)<=1)\n",
    "mdl.add_constraints(X[i]-PM[i]*Y[i]<= 0 for i in Cliente)\n",
    "mdl.add_constraint(mdl.sum(Y[i] for i in Cliente)<=2)"
   ]
  },
  {
   "cell_type": "code",
   "execution_count": 24,
   "metadata": {},
   "outputs": [],
   "source": [
    "obj=mdl.sum(X[i]*I[i] for i in Cliente)-mdl.sum(Y[i]*CA[i] for i in Cliente) \n",
    "mdl.maximize(obj)"
   ]
  },
  {
   "cell_type": "code",
   "execution_count": 25,
   "metadata": {},
   "outputs": [
    {
     "name": "stdout",
     "output_type": "stream",
     "text": [
      "\\ This file has been generated by DOcplex\n",
      "\\ ENCODING=ISO-8859-1\n",
      "\\Problem name: modelo\n",
      "\n",
      "Maximize\n",
      " obj: 2 X_1 + 3 X_2 + 0.800000000000 X_3 - 3 Y_1 - 2 Y_2\n",
      "Subject To\n",
      " c1: 0.200000000000 X_1 + 0.400000000000 X_2 + 0.200000000000 X_3 <= 1\n",
      " c2: X_1 - 3 Y_1 <= 0\n",
      " c3: X_2 - 2 Y_2 <= 0\n",
      " c4: X_3 - 5 Y_3 <= 0\n",
      " c5: Y_1 + Y_2 + Y_3 <= 2\n",
      "\n",
      "Bounds\n",
      " 0 <= Y_1 <= 1\n",
      " 0 <= Y_2 <= 1\n",
      " 0 <= Y_3 <= 1\n",
      "\n",
      "Binaries\n",
      " Y_1 Y_2 Y_3\n",
      "\n",
      "Generals\n",
      " X_1 X_2 X_3\n",
      "End\n",
      "\n"
     ]
    }
   ],
   "source": [
    "print(mdl.export_to_string())"
   ]
  },
  {
   "cell_type": "code",
   "execution_count": 26,
   "metadata": {},
   "outputs": [
    {
     "name": "stdout",
     "output_type": "stream",
     "text": [
      "CPXPARAM_Read_DataCheck                          1\n",
      "Found incumbent of value 0.000000 after 0.00 sec. (0.00 ticks)\n",
      "Tried aggregator 1 time.\n",
      "MIP Presolve modified 1 coefficients.\n",
      "Reduced MIP has 5 rows, 6 columns, and 12 nonzeros.\n",
      "Reduced MIP has 3 binaries, 3 generals, 0 SOSs, and 0 indicators.\n",
      "Presolve time = 0.01 sec. (0.01 ticks)\n",
      "Probing time = 0.00 sec. (0.00 ticks)\n",
      "Tried aggregator 1 time.\n",
      "Reduced MIP has 5 rows, 6 columns, and 12 nonzeros.\n",
      "Reduced MIP has 3 binaries, 3 generals, 0 SOSs, and 0 indicators.\n",
      "Presolve time = 0.00 sec. (0.01 ticks)\n",
      "Probing time = 0.00 sec. (0.00 ticks)\n",
      "MIP emphasis: balance optimality and feasibility.\n",
      "MIP search method: dynamic search.\n",
      "Parallel mode: deterministic, using up to 4 threads.\n",
      "Root relaxation solution time = 0.00 sec. (0.01 ticks)\n",
      "\n",
      "        Nodes                                         Cuts/\n",
      "   Node  Left     Objective  IInf  Best Integer    Best Bound    ItCnt     Gap\n",
      "\n",
      "*     0+    0                            0.0000       16.0000              --- \n",
      "*     0+    0                            4.8000       16.0000           233.33%\n",
      "      0     0        5.0000     1        4.8000        5.0000        1    4.17%\n",
      "      0     0        cutoff              4.8000                      2     --- \n",
      "Elapsed time = 0.09 sec. (0.06 ticks, tree = 0.01 MB, solutions = 2)\n",
      "\n",
      "Zero-half cuts applied:  1\n",
      "\n",
      "Root node processing (before b&c):\n",
      "  Real time             =    0.11 sec. (0.06 ticks)\n",
      "Parallel b&c, 4 threads:\n",
      "  Real time             =    0.00 sec. (0.00 ticks)\n",
      "  Sync time (average)   =    0.00 sec.\n",
      "  Wait time (average)   =    0.00 sec.\n",
      "                          ------------\n",
      "Total (root+branch&cut) =    0.11 sec. (0.06 ticks)\n"
     ]
    }
   ],
   "source": [
    "solucion = mdl.solve(log_output=True)"
   ]
  },
  {
   "cell_type": "code",
   "execution_count": 27,
   "metadata": {},
   "outputs": [
    {
     "name": "stdout",
     "output_type": "stream",
     "text": [
      "solution for: modelo\n",
      "objective: 4.800\n",
      "X_2 = 2\n",
      "X_3 = 1\n",
      "Y_2 = 1\n",
      "Y_3 = 1\n"
     ]
    }
   ],
   "source": [
    "solucion.display()"
   ]
  },
  {
   "cell_type": "markdown",
   "metadata": {},
   "source": [
    "La solución óptima es producir 2 aviones para el cliente 2 y 1 avión para el cliente 3, de esta forma se maximiza la ganancia total obteniendo $4,8 millones."
   ]
  },
  {
   "cell_type": "markdown",
   "metadata": {},
   "source": [
    "### <font color=green> Ejercicio 4 </font>\n",
    "<p style=\"text-align:justify\">\n",
    "Cada vez más estadounidenses se mudan a un clima más templado cuando se retiran. Para aprovechar esta tendencias, Sunny Skies Unlimited emprenderá un proyecto de desarrollo urbano. Se creará una comunidad nueva por completo (llamada Pilgrim Heaven) que cubrirá varias millas cuadradas. Una de las decisiones que se debe tomar es la ubicaciones más conveniete de las dos estaciones de bomberos que se le asignaron a la comunidad. Para propósitos de planeación, se dividió Pilgrim Heaven en cinco sectores, con sólo una estación de bomberos en cada uno de ellos. Cada estación debe responder a todos los llamados que reciba del sector en la que se localiza y las de otros que se le asignen. Entonces, las decisiones son:\n",
    "</p>\n",
    "i. Los sectores que albergan una estación de bomberos y\n",
    "\n",
    "ii. Asignación de cada uno de los otros sectores a una de las decisiones.\n",
    "<p style=\"text-align:justify\">\n",
    "El objetivo es minimizar el promedio global de los tiempos de respuesta a los incendios.\n",
    "La siguiente tabla proporciona el tiempo promedio de respuestas (en minutos) a un incendio en cada sector (columnas) si el servicio se presta desde la estación de un sector dado (renglones). El último renglón proporciona el pronóstico del número promedio de incendios diarios que ourrirán en cada uno de los sectores.\n",
    "</p>\n",
    "<table class=\"egt\">\n",
    " \n",
    " <tr>\n",
    "    <td rowspan=\"2\">Estación asignada localizada en el sector</td>\n",
    "    <td colspan=\"5\">Timepo de respuesta en minutos incendios en el sector</td>\n",
    "  </tr>\n",
    "<tr>\n",
    "    <td><center>1</center></td>\n",
    "    <td><center>2</center></td>\n",
    "    <td><center>3</center></td>\n",
    "    <td><center>4</center></td>\n",
    "    <td><center>5</center></td>\n",
    "  </tr>\n",
    " <tr>\n",
    "    <td><center>1</center></td>\n",
    "    <td><center>5</center></td>\n",
    "    <td><center>12</center></td>\n",
    "    <td><center>30</center></td>\n",
    "    <td><center>20</center></td>\n",
    "    <td><center>15</center></td>\n",
    "  </tr>\n",
    " <tr>\n",
    "    <td><center>2</center></td>\n",
    "    <td><center>20</center></td>\n",
    "    <td><center>4</center></td>\n",
    "    <td><center>15</center></td>\n",
    "    <td><center>10</center></td>\n",
    "    <td><center>25</center></td>\n",
    "  </tr>\n",
    " <tr>\n",
    "    <td><center>3</center></td>\n",
    "    <td><center>15</center></td>\n",
    "    <td><center>20</center></td>\n",
    "    <td><center>6</center></td>\n",
    "    <td><center>15</center></td>\n",
    "    <td><center>12</center></td>\n",
    "  </tr>\n",
    " <tr>\n",
    "    <td><center>4</center></td>\n",
    "    <td><center>25</center></td>\n",
    "    <td><center>15</center></td>\n",
    "    <td><center>25</center></td>\n",
    "    <td><center>4</center></td>\n",
    "    <td><center>10</center></td>\n",
    "  </tr>\n",
    " <tr>\n",
    "<td><center>5</center></td>\n",
    "    <td><center>10</center></td>\n",
    "    <td><center>25</center></td>\n",
    "    <td><center>15</center></td>\n",
    "    <td><center>12</center></td>\n",
    "    <td><center>5</center></td>\n",
    "  </tr>\n",
    " <tr>\n",
    "    <td><center>Frecuencia de emergencia (por día)</center></td>\n",
    "    <td>2 por dia</td>\n",
    "    <td>1 por dia</td>\n",
    "    <td>3 por dia</td>\n",
    "    <td>1 por dia</td>\n",
    "    <td>3 por dia</td>\n",
    "  </tr>\n",
    "</table>\n",
    "\n",
    "### **Conjuntos**\n",
    "- $Sectores\\;(S)$= Conjunto de sectores|$\\;S=\\{1,2,..,5\\}$\n",
    "- $Ubicaciones\\;(U)$= Conjunto de posible ubicaciones para las estaciones de bomberos|$\\;U=S$\n",
    "- $Arcos\\;(A)$= Conjunto de arcos entre cada sector|$\\;A= (i,j) \\in S^2 \\{i \\neq j\\}$ \n",
    "\n",
    "### **Parámetros del problema**\n",
    "- $Estaciones$= Número de estaciones de bomberos a instalar|$\\;Estaciones$=$2$\n",
    "- $t_{ij}$= Tiempo que toma ir desde el sector $i$ al sector $j$\n",
    "- $f_{i}$= Frecuencia de emergencias por día del sector $i$\n",
    "- $w_{i}$= Peso (proporción) de la frecuencia de emergencias por día del sector $i$ con respecto al total de emergencias\n",
    "- $M$= Número grande \n",
    "\n",
    "### Variables de Decisión\n",
    "- $x_{ij}$= {1 si se atiende al sector $i$ desde la ubicación $j$; 0 de otra manera}|$\\;x_{ij}\\in(0,1)$\n",
    "- $y_{j}$= {1 si se decide ubicar una estación de bomberos en la ubicación $j$|$\\;y_{j}\\in(0,1)$\n",
    "- $z$= variable continua que relaciona el $t_{ij}$ con $w_{i}$ (peso) y permite minimizar el tiempo de atencion a cada sector|$\\;z\\in \\mathbb{R}$\n",
    "\n",
    "### Función Objetivo\n",
    "$Min \\;Z= z$\n",
    "\n",
    "### Restricciones\n",
    "$(1)\\displaystyle\\sum_{i \\in S}^{}w_{i}t_{ij}x_{ij}\\leq z \\;\\;\\;\\;\\;\\forall\\;j \\in U$\n",
    "\n",
    "$(2)\\displaystyle\\sum_{j\\in U}^{}y_{j}=Estaciones$\n",
    "$(3)\\displaystyle\\sum_{j\\in U}^{}x_{ij}=1\\;\\;\\;\\;\\;\\forall\\;i \\in S$\n",
    "\n",
    "$(4)\\displaystyle\\sum_{i\\in S}^{}x_{ij}-My_{j}\\leq 0\\;\\;\\;\\;\\;\\forall\\;j \\in U$\n",
    "\n",
    "$(5)\\;x_{ij}\\in(0,1)$\n",
    "\n",
    "$(6)\\;y_{j}\\in(0,1)$\n",
    "\n",
    "$(7)\\;z\\in \\mathbb{R}$"
   ]
  },
  {
   "cell_type": "code",
   "execution_count": 28,
   "metadata": {},
   "outputs": [],
   "source": [
    "import numpy as np\n",
    "import pandas as pd\n",
    "import matplotlib.pyplot as plt"
   ]
  },
  {
   "cell_type": "code",
   "execution_count": 29,
   "metadata": {},
   "outputs": [],
   "source": [
    "#Parámetros\n",
    "sectores=5\n",
    "estaciones=2\n",
    "Sectores={(j) for j in range(1,sectores+1)}\n",
    "Ubicaciones={i for i in Sectores}\n",
    "M=len(Sectores)\n",
    "t={(1,1):5,(1,2):12,(1,3):30,(1,4):20,(1,5):15,\n",
    "    (2,1):20,(2,2):4,(2,3):15,(2,4):10,(2,5):25,\n",
    "    (3,1):15,(3,2):20,(3,3):6,(3,4):15,(3,5):12,\n",
    "    (4,1):25,(4,2):15,(4,3):25,(4,4):4,(4,5):10,\n",
    "    (5,1):10,(5,2):25,(5,3):15,(5,4):12,(5,5):5}\n",
    "f={(1):2,(2):1,(3):3,(4):1,(5):3}\n",
    "total_frecuencias=0\n",
    "for j in f:\n",
    "    total_frecuencias+=f[(j)]\n",
    "w={(j):f[j]/total_frecuencias for j in f} \n",
    "arcos={(i,j) for i in Ubicaciones for j in Sectores}"
   ]
  },
  {
   "cell_type": "code",
   "execution_count": 30,
   "metadata": {},
   "outputs": [],
   "source": [
    "#CreacionModelo\n",
    "m=Model(\"localizacionEstacionesBombero_4\")"
   ]
  },
  {
   "cell_type": "code",
   "execution_count": 31,
   "metadata": {},
   "outputs": [],
   "source": [
    "#Variables\n",
    "X=m.binary_var_dict(arcos,name=\"X\")\n",
    "Y=m.binary_var_dict(Ubicaciones,name=\"Y\")\n",
    "Z=m.continuous_var(name=\"Z\")"
   ]
  },
  {
   "cell_type": "code",
   "execution_count": 32,
   "metadata": {},
   "outputs": [
    {
     "data": {
      "text/plain": [
       "[docplex.mp.LinearConstraint[](X_1_3+X_1_2+X_1_5+X_1_1+X_1_4-5Y_1,LE,0),\n",
       " docplex.mp.LinearConstraint[](X_2_1+X_2_5+X_2_2+X_2_3+X_2_4-5Y_2,LE,0),\n",
       " docplex.mp.LinearConstraint[](X_3_3+X_3_2+X_3_5+X_3_1+X_3_4-5Y_3,LE,0),\n",
       " docplex.mp.LinearConstraint[](X_4_4+X_4_1+X_4_5+X_4_2+X_4_3-5Y_4,LE,0),\n",
       " docplex.mp.LinearConstraint[](X_5_1+X_5_5+X_5_4+X_5_2+X_5_3-5Y_5,LE,0)]"
      ]
     },
     "execution_count": 32,
     "metadata": {},
     "output_type": "execute_result"
    }
   ],
   "source": [
    "#Restricciones\n",
    "m.add_constraints(m.sum(w[j]*t[(i,j)]*X[(i,j)] for j in Sectores)<=Z for i in Ubicaciones)\n",
    "m.add_constraint(m.sum(Y[i] for i in Ubicaciones)==estaciones)\n",
    "m.add_constraints(m.sum(X[(i,j)] for i in Ubicaciones)==1 for j in Sectores)\n",
    "m.add_constraints(m.sum(X[(i,j)] for j in Sectores)-M*Y[i]<=0 for i in Ubicaciones)"
   ]
  },
  {
   "cell_type": "code",
   "execution_count": 33,
   "metadata": {},
   "outputs": [],
   "source": [
    "#FuncionObjetivo\n",
    "obj=Z\n",
    "m.minimize(obj)"
   ]
  },
  {
   "cell_type": "code",
   "execution_count": 34,
   "metadata": {},
   "outputs": [
    {
     "name": "stdout",
     "output_type": "stream",
     "text": [
      "CPXPARAM_Read_DataCheck                          1\n",
      "Tried aggregator 1 time.\n",
      "Reduced MIP has 16 rows, 31 columns, and 90 nonzeros.\n",
      "Reduced MIP has 30 binaries, 0 generals, 0 SOSs, and 0 indicators.\n",
      "Presolve time = 0.02 sec. (0.05 ticks)\n",
      "Found incumbent of value 14.700000 after 0.02 sec. (0.13 ticks)\n",
      "Probing time = 0.00 sec. (0.02 ticks)\n",
      "Cover probing fixed 0 vars, tightened 2 bounds.\n",
      "Tried aggregator 1 time.\n",
      "Reduced MIP has 16 rows, 31 columns, and 90 nonzeros.\n",
      "Reduced MIP has 30 binaries, 0 generals, 0 SOSs, and 0 indicators.\n",
      "Presolve time = 0.00 sec. (0.06 ticks)\n",
      "Probing time = 0.00 sec. (0.02 ticks)\n",
      "Clique table members: 30.\n",
      "MIP emphasis: balance optimality and feasibility.\n",
      "MIP search method: dynamic search.\n",
      "Parallel mode: deterministic, using up to 4 threads.\n",
      "Root relaxation solution time = 0.00 sec. (0.03 ticks)\n",
      "\n",
      "        Nodes                                         Cuts/\n",
      "   Node  Left     Objective  IInf  Best Integer    Best Bound    ItCnt     Gap\n",
      "\n",
      "*     0+    0                           14.7000        1.8000            87.76%\n",
      "*     0+    0                           11.9000        1.8000            84.87%\n",
      "      0     0        1.8000    10       11.9000        1.8000        8   84.87%\n",
      "*     0+    0                            6.0000        1.8000            70.00%\n",
      "      0     0        2.1217    11        6.0000      Cuts: 21       36   64.64%\n",
      "*     0+    0                            5.9000        2.1217            64.04%\n",
      "      0     0        2.8830    17        5.9000      Cuts: 21       57   51.14%\n",
      "*     0+    0                            4.9000        2.8830            41.16%\n",
      "      0     0        3.0339    20        4.9000      Cuts: 16       71   38.08%\n",
      "*     0+    0                            4.7000        3.0339            35.45%\n",
      "      0     0        3.1499    21        4.7000       Cuts: 9       76   32.98%\n",
      "      0     0        3.1964    23        4.7000       Cuts: 4       87   31.99%\n",
      "      0     0        3.2814    23        4.7000       Cuts: 5       95   30.18%\n",
      "      0     0        3.3857    22        4.7000      Cuts: 10      101   27.96%\n",
      "      0     0        3.4447    20        4.7000      Cuts: 11      108   26.71%\n",
      "      0     0        3.4752    18        4.7000      Cuts: 10      110   26.06%\n",
      "      0     0        3.5838    19        4.7000      Cuts: 10      114   23.75%\n",
      "      0     0        3.6169    18        4.7000       Cuts: 5      116   23.05%\n",
      "      0     0        3.6193    10        4.7000       Cuts: 5      118   22.99%\n",
      "      0     0        3.6328    15        4.7000    MIRcuts: 2      119   22.71%\n",
      "      0     0        3.6368    16        4.7000    MIRcuts: 2      122   22.62%\n",
      "      0     0        3.6396    16        4.7000    MIRcuts: 1      123   22.56%\n",
      "      0     0        cutoff              4.7000        4.7000      123    0.00%\n",
      "Elapsed time = 0.25 sec. (4.32 ticks, tree = 0.01 MB, solutions = 6)\n",
      "\n",
      "Clique cuts applied:  3\n",
      "Cover cuts applied:  7\n",
      "Implied bound cuts applied:  5\n",
      "Mixed integer rounding cuts applied:  7\n",
      "Zero-half cuts applied:  5\n",
      "\n",
      "Root node processing (before b&c):\n",
      "  Real time             =    0.27 sec. (4.32 ticks)\n",
      "Parallel b&c, 4 threads:\n",
      "  Real time             =    0.00 sec. (0.00 ticks)\n",
      "  Sync time (average)   =    0.00 sec.\n",
      "  Wait time (average)   =    0.00 sec.\n",
      "                          ------------\n",
      "Total (root+branch&cut) =    0.27 sec. (4.32 ticks)\n"
     ]
    }
   ],
   "source": [
    "sol=m.solve(log_output=True)"
   ]
  },
  {
   "cell_type": "code",
   "execution_count": 35,
   "metadata": {},
   "outputs": [
    {
     "data": {
      "text/plain": [
       "<JobSolveStatus.OPTIMAL_SOLUTION: 2>"
      ]
     },
     "execution_count": 35,
     "metadata": {},
     "output_type": "execute_result"
    }
   ],
   "source": [
    "m.get_solve_status()"
   ]
  },
  {
   "cell_type": "code",
   "execution_count": 36,
   "metadata": {},
   "outputs": [
    {
     "name": "stdout",
     "output_type": "stream",
     "text": [
      "\\ This file has been generated by DOcplex\n",
      "\\ ENCODING=ISO-8859-1\n",
      "\\Problem name: localizacionEstacionesBombero_4\n",
      "\n",
      "Minimize\n",
      " obj: Z\n",
      "Subject To\n",
      " c1: 9 X_1_3 + 1.200000000000 X_1_2 + 4.500000000000 X_1_5 + X_1_1 + 2 X_1_4 - Z\n",
      "      <= 0\n",
      " c2: 4 X_2_1 + 7.500000000000 X_2_5 + 0.400000000000 X_2_2\n",
      "     + 4.500000000000 X_2_3 + X_2_4 - Z <= 0\n",
      " c3: 1.800000000000 X_3_3 + 2 X_3_2 + 3.600000000000 X_3_5 + 3 X_3_1\n",
      "     + 1.500000000000 X_3_4 - Z <= 0\n",
      " c4: 0.400000000000 X_4_4 + 5 X_4_1 + 3 X_4_5 + 1.500000000000 X_4_2\n",
      "     + 7.500000000000 X_4_3 - Z <= 0\n",
      " c5: 2 X_5_1 + 1.500000000000 X_5_5 + 1.200000000000 X_5_4\n",
      "     + 2.500000000000 X_5_2 + 4.500000000000 X_5_3 - Z <= 0\n",
      " c6: Y_1 + Y_2 + Y_3 + Y_4 + Y_5 = 2\n",
      " c7: X_2_1 + X_5_1 + X_4_1 + X_1_1 + X_3_1 = 1\n",
      " c8: X_1_2 + X_2_2 + X_3_2 + X_5_2 + X_4_2 = 1\n",
      " c9: X_1_3 + X_3_3 + X_2_3 + X_5_3 + X_4_3 = 1\n",
      " c10: X_4_4 + X_5_4 + X_1_4 + X_3_4 + X_2_4 = 1\n",
      " c11: X_2_5 + X_5_5 + X_1_5 + X_4_5 + X_3_5 = 1\n",
      " c12: X_1_3 + X_1_2 + X_1_5 + X_1_1 + X_1_4 - 5 Y_1 <= 0\n",
      " c13: X_2_1 + X_2_5 + X_2_2 + X_2_3 + X_2_4 - 5 Y_2 <= 0\n",
      " c14: X_3_3 + X_3_2 + X_3_5 + X_3_1 + X_3_4 - 5 Y_3 <= 0\n",
      " c15: X_4_4 + X_4_1 + X_4_5 + X_4_2 + X_4_3 - 5 Y_4 <= 0\n",
      " c16: X_5_1 + X_5_5 + X_5_4 + X_5_2 + X_5_3 - 5 Y_5 <= 0\n",
      "\n",
      "Bounds\n",
      " 0 <= X_1_3 <= 1\n",
      " 0 <= X_2_1 <= 1\n",
      " 0 <= X_5_1 <= 1\n",
      " 0 <= X_2_5 <= 1\n",
      " 0 <= X_1_2 <= 1\n",
      " 0 <= X_3_3 <= 1\n",
      " 0 <= X_5_5 <= 1\n",
      " 0 <= X_4_4 <= 1\n",
      " 0 <= X_1_5 <= 1\n",
      " 0 <= X_2_2 <= 1\n",
      " 0 <= X_4_1 <= 1\n",
      " 0 <= X_1_1 <= 1\n",
      " 0 <= X_3_2 <= 1\n",
      " 0 <= X_5_4 <= 1\n",
      " 0 <= X_4_5 <= 1\n",
      " 0 <= X_5_2 <= 1\n",
      " 0 <= X_1_4 <= 1\n",
      " 0 <= X_2_3 <= 1\n",
      " 0 <= X_4_2 <= 1\n",
      " 0 <= X_3_5 <= 1\n",
      " 0 <= X_5_3 <= 1\n",
      " 0 <= X_3_1 <= 1\n",
      " 0 <= X_4_3 <= 1\n",
      " 0 <= X_3_4 <= 1\n",
      " 0 <= X_2_4 <= 1\n",
      " 0 <= Y_1 <= 1\n",
      " 0 <= Y_2 <= 1\n",
      " 0 <= Y_3 <= 1\n",
      " 0 <= Y_4 <= 1\n",
      " 0 <= Y_5 <= 1\n",
      "\n",
      "Binaries\n",
      " X_1_3 X_2_1 X_5_1 X_2_5 X_1_2 X_3_3 X_5_5 X_4_4 X_1_5 X_2_2 X_4_1 X_1_1 X_3_2\n",
      " X_5_4 X_4_5 X_5_2 X_1_4 X_2_3 X_4_2 X_3_5 X_5_3 X_3_1 X_4_3 X_3_4 X_2_4 Y_1 Y_2\n",
      " Y_3 Y_4 Y_5\n",
      "End\n",
      "\n"
     ]
    }
   ],
   "source": [
    "print(m.export_to_string())"
   ]
  },
  {
   "cell_type": "code",
   "execution_count": 37,
   "metadata": {},
   "outputs": [
    {
     "name": "stdout",
     "output_type": "stream",
     "text": [
      "solution for: localizacionEstacionesBombero_4\n",
      "Z: 4.700\n",
      "X_5_1 = 1\n",
      "X_3_3 = 1\n",
      "X_5_5 = 1\n",
      "X_3_2 = 1\n",
      "X_5_4 = 1\n",
      "Y_3 = 1\n",
      "Y_5 = 1\n",
      "Z = 4.700\n"
     ]
    }
   ],
   "source": [
    "sol.display()"
   ]
  },
  {
   "cell_type": "code",
   "execution_count": 39,
   "metadata": {},
   "outputs": [
    {
     "name": "stdout",
     "output_type": "stream",
     "text": [
      "Respuesta:\n",
      "Los sectores que albergarán una estación de bomberos serán: \n",
      "Sector 3, abasteciendo los sectores:\n",
      "2\n",
      "3\n",
      "Sector 5, abasteciendo los sectores:\n",
      "1\n",
      "4\n",
      "5\n"
     ]
    }
   ],
   "source": [
    "print(\"Respuesta:\")\n",
    "print(\"Los sectores que albergarán una estación de bomberos serán: \")\n",
    "for i in Ubicaciones:\n",
    "    if Y[(i)].solution_value>0.99:\n",
    "        print(\"Sector \"+str(i)+\", abasteciendo los sectores:\")\n",
    "        for j in Sectores:\n",
    "            if X[i,j].solution_value>0.99:\n",
    "                print(j)\n",
    "\n",
    "  "
   ]
  },
  {
   "cell_type": "code",
   "execution_count": null,
   "metadata": {},
   "outputs": [],
   "source": []
  }
 ],
 "metadata": {
  "kernelspec": {
   "display_name": "Python 3",
   "language": "python",
   "name": "python3"
  },
  "language_info": {
   "codemirror_mode": {
    "name": "ipython",
    "version": 3
   },
   "file_extension": ".py",
   "mimetype": "text/x-python",
   "name": "python",
   "nbconvert_exporter": "python",
   "pygments_lexer": "ipython3",
   "version": "3.8.8"
  }
 },
 "nbformat": 4,
 "nbformat_minor": 2
}
